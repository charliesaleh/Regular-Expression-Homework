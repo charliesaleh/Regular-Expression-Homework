{
 "cells": [
  {
   "cell_type": "markdown",
   "metadata": {},
   "source": [
    "# Regular Expressions"
   ]
  },
  {
   "cell_type": "markdown",
   "metadata": {},
   "source": [
    "# Tasks today:\n",
    "1) <b>Importing</b> <br>\n",
    "2) <b>Using Regular Expressions</b> <br>\n",
    " &nbsp;&nbsp;&nbsp;&nbsp; a) re.compile() <br>\n",
    " &nbsp;&nbsp;&nbsp;&nbsp; b) re.match() <br>\n",
    " &nbsp;&nbsp;&nbsp;&nbsp; c) re.findall() <br>\n",
    " &nbsp;&nbsp;&nbsp;&nbsp; d) re.search() <br>\n",
    "3) <b>Sets</b> <br>\n",
    " &nbsp;&nbsp;&nbsp;&nbsp; a) Integer Ranges <br>\n",
    " &nbsp;&nbsp;&nbsp;&nbsp; b) Character Ranges <br>\n",
    "4) <b>Counting Occurences</b> <br>\n",
    " &nbsp;&nbsp;&nbsp;&nbsp; a) {x} <br>\n",
    " &nbsp;&nbsp;&nbsp;&nbsp; b) {, x} <br>\n",
    " &nbsp;&nbsp;&nbsp;&nbsp; c) {?} <br>\n",
    " &nbsp;&nbsp;&nbsp;&nbsp; d) {*} <br>\n",
    " &nbsp;&nbsp;&nbsp;&nbsp; e) {+} <br>\n",
    "5) <b>In-Class Exercise #1</b> <br>\n",
    "6) <b>Escaping Characters</b> <br>\n",
    "7) <b>Grouping</b> <br>\n",
    "8) <b>In-Class Exercise #2</b> <br>\n",
    "9) <b>Opening a File</b> <br>\n",
    " &nbsp;&nbsp;&nbsp;&nbsp; a) open() <br>\n",
    " &nbsp;&nbsp;&nbsp;&nbsp; b) with open() <br>\n",
    " &nbsp;&nbsp;&nbsp;&nbsp; c) re.match() <br>\n",
    " &nbsp;&nbsp;&nbsp;&nbsp; d) re.search() <br>\n",
    " &nbsp;&nbsp;&nbsp;&nbsp; e) Store the String in a Variable <br>\n",
    "10) <b>Regex Project</b> <br>"
   ]
  },
  {
   "cell_type": "markdown",
   "metadata": {},
   "source": [
    "### Importing <br>\n",
    "<p>Regular Expressions are universal throughout most programming languages... They are generally imported through the module 're'.</p>"
   ]
  },
  {
   "cell_type": "code",
   "execution_count": 348,
   "metadata": {},
   "outputs": [],
   "source": [
    "# import re\n",
    "import re"
   ]
  },
  {
   "attachments": {},
   "cell_type": "markdown",
   "metadata": {},
   "source": [
    "### Using Regular Expressions <br>\n",
    "<p>Regular expressions give us the ability to search for patterns within text, strings, files, etc. They have several uses, such as; security measures, searching, filtering, pattern recognition, and more...</p>"
   ]
  },
  {
   "attachments": {},
   "cell_type": "markdown",
   "metadata": {},
   "source": [
    "##### re.compile() - predetermines the string to be used in regular expression methods"
   ]
  },
  {
   "cell_type": "code",
   "execution_count": 349,
   "metadata": {},
   "outputs": [],
   "source": [
    "test_string = 'thieves123'\n",
    "pattern = re.compile('thieves')\n",
    "\n",
    "#matches from beginning of the string"
   ]
  },
  {
   "attachments": {},
   "cell_type": "markdown",
   "metadata": {},
   "source": [
    "##### re.match() - finds match at the beginning of the string and returns a match object"
   ]
  },
  {
   "cell_type": "code",
   "execution_count": 350,
   "metadata": {},
   "outputs": [
    {
     "name": "stdout",
     "output_type": "stream",
     "text": [
      "<re.Match object; span=(0, 7), match='thieves'>\n",
      "(0, 7)\n",
      "thieves\n"
     ]
    }
   ],
   "source": [
    "match = pattern.match(test_string)\n",
    "print(match)\n",
    "print(match.span())\n",
    "print(match.group())"
   ]
  },
  {
   "attachments": {},
   "cell_type": "markdown",
   "metadata": {},
   "source": [
    "##### re.findall() - returns a list of all matches in a string"
   ]
  },
  {
   "cell_type": "code",
   "execution_count": 351,
   "metadata": {},
   "outputs": [
    {
     "name": "stdout",
     "output_type": "stream",
     "text": [
      "['thieves', 'thieves', 'thieves']\n"
     ]
    }
   ],
   "source": [
    "match = pattern.findall('kjhgdafskjhgdasfkjhdsfajkhgdsfajgkhfasthievesksjahklsdfajhasdflkjhsdfalkjthievesjkhdfasgkjhdsfagkjhdsfagkjdgafhsthieves')\n",
    "print(match)"
   ]
  },
  {
   "attachments": {},
   "cell_type": "markdown",
   "metadata": {},
   "source": [
    "##### re.search() - find first match anywhere in the string and returns a match object"
   ]
  },
  {
   "cell_type": "code",
   "execution_count": 352,
   "metadata": {},
   "outputs": [
    {
     "name": "stdout",
     "output_type": "stream",
     "text": [
      "<re.Match object; span=(24, 31), match='thieves'>\n",
      "(24, 31)\n"
     ]
    }
   ],
   "source": [
    "match = pattern.search('Take what\\s not given - thieves 110')\n",
    "print(match)\n",
    "print(match.span())"
   ]
  },
  {
   "attachments": {},
   "cell_type": "markdown",
   "metadata": {},
   "source": [
    "### Metacharacters, Sets, & Raw Strings<br>\n",
    "<p>The following cells will allow you to use regular expressions to search for certain values within a range.</p>"
   ]
  },
  {
   "cell_type": "markdown",
   "metadata": {},
   "source": [
    "##### [a-z] or [A-Z] - any lowercase/uppercase letters from a to z<br/>[^2] - anything that's not 2"
   ]
  },
  {
   "attachments": {},
   "cell_type": "markdown",
   "metadata": {},
   "source": [
    "##### Integer Ranges"
   ]
  },
  {
   "cell_type": "code",
   "execution_count": 353,
   "metadata": {},
   "outputs": [
    {
     "name": "stdout",
     "output_type": "stream",
     "text": [
      "['761', '762', '762', '762', '763', '872', '361', '873', '461', '872', '461', '872', '361', '763', '872', '361', '763']\n"
     ]
    }
   ],
   "source": [
    "pattern  = re.compile(r'[0-9][5-9][1-3]')\n",
    "\n",
    "match = pattern.findall('23187614239876231489762134987621348976324987236198732461987234619872361987632419872361489763241')\n",
    "\n",
    "print(match)"
   ]
  },
  {
   "cell_type": "markdown",
   "metadata": {},
   "source": [
    "##### Character Ranges"
   ]
  },
  {
   "cell_type": "code",
   "execution_count": 354,
   "metadata": {},
   "outputs": [
    {
     "name": "stdout",
     "output_type": "stream",
     "text": [
      "['You', 'Wan', 'Fas', 'Alo', 'You', 'Wan', 'Far', 'Tog']\n"
     ]
    }
   ],
   "source": [
    "pattern = re.compile(r'[A-Z][a-z][a-z]')\n",
    "\n",
    "match = pattern.findall('If you want to go fast, go alone. If you want to go far, go together.')\n",
    "\n",
    "match = pattern.findall('If You Want To Go Fast, Go Alone. If You Want To Go Far, Go Together.')\n",
    "\n",
    "print(match)"
   ]
  },
  {
   "cell_type": "markdown",
   "metadata": {},
   "source": [
    "### Counting Occurences"
   ]
  },
  {
   "cell_type": "markdown",
   "metadata": {},
   "source": [
    "##### {x} - something that occurs {num_of_times}"
   ]
  },
  {
   "cell_type": "code",
   "execution_count": 355,
   "metadata": {},
   "outputs": [
    {
     "name": "stdout",
     "output_type": "stream",
     "text": [
      "['27', '12', '15', '73', '50', '37', '41']\n"
     ]
    }
   ],
   "source": [
    "pattern = re.compile(r'[0-9]{2}')\n",
    "\n",
    "match = pattern.findall('i am 27 years old, 12 years ago i was 15 living at 73507. I now live at 37415')\n",
    "#                             __            __                 __           ____                 ____\n",
    "print(match)"
   ]
  },
  {
   "cell_type": "markdown",
   "metadata": {},
   "source": [
    "##### {x, x} - something that occurs between x and x times"
   ]
  },
  {
   "cell_type": "code",
   "execution_count": 356,
   "metadata": {},
   "outputs": [
    {
     "name": "stdout",
     "output_type": "stream",
     "text": [
      "['Today', 'Regex']\n"
     ]
    }
   ],
   "source": [
    "pattern = re.compile(r'[A-Z][a-z]{3,}')\n",
    "\n",
    "match = pattern.findall('Today we\\'re are learning about Regex!')\n",
    "#\n",
    "print(match)"
   ]
  },
  {
   "cell_type": "markdown",
   "metadata": {},
   "source": [
    "##### ? - something that occurs 0 or 1 time"
   ]
  },
  {
   "cell_type": "code",
   "execution_count": 357,
   "metadata": {},
   "outputs": [
    {
     "name": "stdout",
     "output_type": "stream",
     "text": [
      "['Mr', 'Mrs']\n"
     ]
    }
   ],
   "source": [
    "pattern = re.compile(r'Mrs?')\n",
    "\n",
    "match = pattern.findall('Hello Mr. Anderson, How is the Mrssssssssssssssssssssssssss?')\n",
    "\n",
    "print(match)"
   ]
  },
  {
   "cell_type": "markdown",
   "metadata": {},
   "source": [
    "##### * - something that occurs at least 0 times"
   ]
  },
  {
   "cell_type": "code",
   "execution_count": 358,
   "metadata": {},
   "outputs": [
    {
     "name": "stdout",
     "output_type": "stream",
     "text": [
      "['Mr', 'Mrssssssssssssssssssssssssss']\n"
     ]
    }
   ],
   "source": [
    "pattern = re.compile(r'Mrs*')\n",
    "\n",
    "match = pattern.findall('Hello Mr. Anderson, How is the Mrssssssssssssssssssssssssss')\n",
    "\n",
    "print(match)"
   ]
  },
  {
   "cell_type": "markdown",
   "metadata": {},
   "source": [
    "##### + - something that occurs at least once"
   ]
  },
  {
   "cell_type": "code",
   "execution_count": 359,
   "metadata": {},
   "outputs": [
    {
     "name": "stdout",
     "output_type": "stream",
     "text": [
      "['Mrssssssssssssssssssssssssss']\n"
     ]
    }
   ],
   "source": [
    "pattern = re.compile(r'Mrs+')\n",
    "\n",
    "match = pattern.findall('Hello Mr. Anderson, How is the Mrssssssssssssssssssssssssss?')\n",
    "\n",
    "print(match)"
   ]
  },
  {
   "cell_type": "markdown",
   "metadata": {},
   "source": [
    "##### In-class exercise 1: \n",
    "\n",
    "Use a regular expression to find every number in the given string"
   ]
  },
  {
   "cell_type": "code",
   "execution_count": 360,
   "metadata": {},
   "outputs": [
    {
     "name": "stdout",
     "output_type": "stream",
     "text": [
      "['10909090', '1', '2']\n"
     ]
    }
   ],
   "source": [
    "my_string = \"This string has 10909090 numbers, but it is only 1 string. I hope you solve this 2day.\"\n",
    "pattern = re.compile(r'[0-9]{1,8}')\n",
    "match = pattern.findall(my_string)\n",
    "print(match)\n",
    "# Output: ['10909090','1',2]"
   ]
  },
  {
   "cell_type": "markdown",
   "metadata": {},
   "source": [
    "### Escaping Characters"
   ]
  },
  {
   "cell_type": "markdown",
   "metadata": {},
   "source": [
    "##### \\w - look for any Alphanumeric character<br/>\\W - look for anything that isnt a Alphanumeric character"
   ]
  },
  {
   "cell_type": "code",
   "execution_count": 361,
   "metadata": {},
   "outputs": [
    {
     "name": "stdout",
     "output_type": "stream",
     "text": [
      "['The', 'seahawks', 'preformed', 'better', 'than', 'anyone', 'thought', 'they', 'would']\n"
     ]
    }
   ],
   "source": [
    "pattern = re.compile(r'\\w+')\n",
    "\n",
    "match = pattern.findall('The seahawks preformed better than anyone thought they would')\n",
    "\n",
    "print(match)"
   ]
  },
  {
   "cell_type": "markdown",
   "metadata": {},
   "source": [
    "##### \\d - look for any digit 0-9<br/>\\D - look for anything that isnt a digit"
   ]
  },
  {
   "cell_type": "code",
   "execution_count": 362,
   "metadata": {},
   "outputs": [
    {
     "name": "stdout",
     "output_type": "stream",
     "text": [
      "['Today is the ', 'th tomrrow will be Valentines Day which is the ', 'th!']\n"
     ]
    }
   ],
   "source": [
    "pattern = re.compile(r'\\D+')\n",
    "\n",
    "match = pattern.findall('Today is the 13th tomrrow will be Valentines Day which is the 14th!')\n",
    "\n",
    "print(match)"
   ]
  },
  {
   "cell_type": "markdown",
   "metadata": {},
   "source": [
    "##### \\s - look for any white space<br/>\\S - look for anything that isnt whitespace"
   ]
  },
  {
   "cell_type": "code",
   "execution_count": 363,
   "metadata": {},
   "outputs": [
    {
     "name": "stdout",
     "output_type": "stream",
     "text": [
      "['Today', 'is', 'the', '13th', 'tomrrow', 'will', 'be', 'Valentines', 'Day', 'which', 'is', 'the', '14th!']\n"
     ]
    }
   ],
   "source": [
    "pattern = re.compile(r'\\S+')\n",
    "\n",
    "match = pattern.findall('Today is the 13th tomrrow will be Valentines Day which is the 14th!')\n",
    "\n",
    "print(match)"
   ]
  },
  {
   "cell_type": "markdown",
   "metadata": {},
   "source": [
    "### Grouping"
   ]
  },
  {
   "cell_type": "code",
   "execution_count": 364,
   "metadata": {},
   "outputs": [
    {
     "name": "stdout",
     "output_type": "stream",
     "text": [
      "[('Max', 'Smith'), ('Sam', 'Darnold'), ('LeBron', 'James'), ('Micheal', 'Jordan'), ('Kevin', 'Durant'), ('Patrick', 'McCormick')]\n",
      "Max Smith\n",
      "Invalid name....\n",
      "Sam Darnold\n",
      "LeBron James\n",
      "Micheal Jordan\n",
      "Kevin Durant\n",
      "Patrick McCormick\n"
     ]
    }
   ],
   "source": [
    "my_string_again = \"Max Smith, aaron rodgers, Sam Darnold,LeBron James, Micheal Jordan, Kevin Durant, Patrick McCormick\"\n",
    "\n",
    "# Group of names Regular Expression Compiler\n",
    "pattern = re.compile(r'([A-Z][a-zA-Z]+) ([A-Z][a-zA-Z]+)')\n",
    "\n",
    "match = pattern.findall(my_string_again)\n",
    "\n",
    "print(match)\n",
    "\n",
    "for name in my_string_again.split(','):\n",
    "    match = pattern.search(name)\n",
    "    if match:\n",
    "        print(match.group())\n",
    "    else:\n",
    "        print('Invalid name....')"
   ]
  },
  {
   "cell_type": "markdown",
   "metadata": {},
   "source": [
    "##### In-class Exercise 2:\n",
    "\n",
    "Write a function using regular expressions to find the domain name in the given email addresses (and return None for the invalid email addresses)<br><b>HINT: Use '|' for either or</b>"
   ]
  },
  {
   "cell_type": "code",
   "execution_count": 365,
   "metadata": {},
   "outputs": [
    {
     "name": "stdout",
     "output_type": "stream",
     "text": [
      "None\n",
      "pocohontas1776@gmail.com\n",
      "None\n",
      "yourfavoriteband@g6.org\n",
      "None\n"
     ]
    }
   ],
   "source": [
    "my_emails = [\"thieves@codingcodingsummit.orgcom\", \"pocohontas1776@gmail.com\", \"helloworld@aol..com\",\n",
    "             \"yourfavoriteband@g6.org\", \"@codingsummit.com\"]\n",
    "\n",
    "# You can also use the $ at the end of your compile expression -- this stops the search\n",
    "\n",
    "#Expected output:\n",
    "#None\n",
    "#pocohontas1776@gmail.com\n",
    "#None\n",
    "#yourfavoriteband@g6.org\n",
    "#None\n",
    "\n",
    "pattern = re.compile(r'\\w+@\\w+.(com|org)$')\n",
    "\n",
    "for email in my_emails:\n",
    "    match = pattern.search(email)\n",
    "    if match:\n",
    "        print(match.group())\n",
    "    else:\n",
    "        print(None)"
   ]
  },
  {
   "cell_type": "markdown",
   "metadata": {},
   "source": [
    "### Opening a File <br>\n",
    "<p>Python gives us a couple ways to import files, below are the two used most often.</p>"
   ]
  },
  {
   "attachments": {},
   "cell_type": "markdown",
   "metadata": {},
   "source": [
    "##### open() - opens a file but must remember to close it after usage"
   ]
  },
  {
   "cell_type": "code",
   "execution_count": 366,
   "metadata": {},
   "outputs": [
    {
     "name": "stdout",
     "output_type": "stream",
     "text": [
      "Hawkins, Derek\tderek@codingtemple.com\t(555) 555-5555\tTeacher, Coding Temple\t@derekhawkins\n",
      "Zhai, Mo\tmozhai@codingtemple.com\t(555) 555-5554\tTeacher, Coding Temple\n",
      "Johnson, Joe\tjoejohnson@codingtemple.com\t\tJohson, Joe\n",
      "Osterberg, Sven-Erik\tgovernor@norrbotten.co.se\t\tGovernor, Norrbotten\t@sverik\n",
      ", Tim\ttim@killerrabbit.com\t\tEnchanter, Killer Rabbit Cave\n",
      "Butz, Ryan\tryanb@codingtemple.com\t(555) 555-5543\tCEO, Coding Temple\t@ryanbutz\n",
      "Doctor, The\tdoctor+companion@tardis.co.uk\t\tTime Lord, Gallifrey\n",
      "Exampleson, Example\tme@example.com\t555-555-5552\tExample, Example Co.\t@example\n",
      "Pael, Ripal\tripalp@codingtemple.com\t(555) 555-5553\tTeacher, Coding Temple\t@ripalp\n",
      "Vader, Darth\tdarth-vader@empire.gov\t(555) 555-4444\tSith Lord, Galactic Empire\t@darthvader\n",
      "Fernandez de la Vega Sanz, Maria Teresa\tmtfvs@spain.gov\t\tFirst Deputy Prime Minister, Spanish Gov\n"
     ]
    }
   ],
   "source": [
    "my_file = open('names.txt')\n",
    "print(my_file.read())\n",
    "my_file.close()"
   ]
  },
  {
   "attachments": {},
   "cell_type": "markdown",
   "metadata": {},
   "source": [
    "##### with open() - opens a file and closes it automatically"
   ]
  },
  {
   "cell_type": "code",
   "execution_count": 367,
   "metadata": {},
   "outputs": [],
   "source": [
    "with open('names.txt') as my_file:\n",
    "    data = my_file.read()"
   ]
  },
  {
   "cell_type": "markdown",
   "metadata": {},
   "source": [
    "##### re.match()"
   ]
  },
  {
   "cell_type": "code",
   "execution_count": 368,
   "metadata": {},
   "outputs": [
    {
     "name": "stdout",
     "output_type": "stream",
     "text": [
      "Hawkins, Derek\n"
     ]
    }
   ],
   "source": [
    "pattern = re.compile('Hawkins, Derek')\n",
    "\n",
    "match = pattern.match(data)\n",
    "\n",
    "print(match.group())"
   ]
  },
  {
   "cell_type": "markdown",
   "metadata": {},
   "source": [
    "##### re.search()"
   ]
  },
  {
   "cell_type": "code",
   "execution_count": 369,
   "metadata": {},
   "outputs": [
    {
     "name": "stdout",
     "output_type": "stream",
     "text": [
      "Doctor\n",
      "(428, 434)\n"
     ]
    }
   ],
   "source": [
    "pattern = re.compile(r'Doctor')\n",
    "\n",
    "match = pattern.search(data)\n",
    "\n",
    "print(match.group())\n",
    "print(match.span())"
   ]
  },
  {
   "cell_type": "markdown",
   "metadata": {},
   "source": [
    "##### Search for User-Input"
   ]
  },
  {
   "cell_type": "code",
   "execution_count": 370,
   "metadata": {},
   "outputs": [
    {
     "name": "stdout",
     "output_type": "stream",
     "text": [
      "\n"
     ]
    }
   ],
   "source": [
    "user_input = input('What value do you want to find? ')\n",
    "\n",
    "pattern = re.compile(user_input)\n",
    "\n",
    "match = pattern.search(data)\n",
    "\n",
    "print(match.group())"
   ]
  },
  {
   "attachments": {},
   "cell_type": "markdown",
   "metadata": {},
   "source": [
    "### Regex project\n",
    "\n",
    "Use python to read the file regex_test.txt and print the last name on each line using regular expressions and groups (return None for names with no first and last name, or names that aren't properly capitalized)\n",
    "##### Hint: use with open() and readlines()"
   ]
  },
  {
   "cell_type": "code",
   "execution_count": 382,
   "metadata": {},
   "outputs": [
    {
     "name": "stdout",
     "output_type": "stream",
     "text": [
      "Abraham Lincoln\n",
      "Andrew P Garfield\n",
      "Connor Milliken\n",
      "Jordan Alexander Williams\n",
      "None\n",
      "None\n",
      "Lincoln\n",
      "Garfield\n",
      "Milliken\n",
      "Alexander\n",
      "None\n",
      "None\n"
     ]
    }
   ],
   "source": [
    "\"\"\"\n",
    "Expected Output\n",
    "Abraham Lincoln\n",
    "Andrew P Garfield\n",
    "Connor Milliken\n",
    "Jordan Alexander Williams\n",
    "None\n",
    "None\n",
    "\"\"\"\n",
    "#---------------------- Full names ----------------------------------\n",
    "with open(\"regex_test.txt\") as data:\n",
    "    names = data.readlines()\n",
    "\n",
    "for name in names:\n",
    "    last_names = re.match(r\"[A-Za-z]+\\s[A-Z][- a-zA-Z]+\", name) # still don't fully know how to get these\n",
    "    if last_names:\n",
    "        print(last_names.group())\n",
    "    else:\n",
    "        print(None)\n",
    "#----------------------- With Last Names(not all) ----------------------------\n",
    "with open(\"regex_test.txt\") as data:\n",
    "    names = data.readlines()\n",
    "\n",
    "for name in names:\n",
    "    last_names = re.search(r\"[A-Z][a-z]*\\s+([A-Z][a-z]\\w+)*\\s+\", name) # still don't fully know how to get these\n",
    "    if last_names:\n",
    "        print(last_names.group(1))\n",
    "    else:\n",
    "        print(None)\n",
    "\n",
    "#last_names = re.search(r\"[A-Z][a-z]*\\s+([A-Z][a-z]\\w+)\", name) -----------fail number 1\n",
    "#last_names = re.search(r\"[A-Z][a-z]*\\s+([A-Z][a-z]\\w+\\s[A-Za-z]+)\", name) --------------fail number 2\n",
    "#last_names = re.search(r\"([A-Za-z]\\w+\\s+[A-Za-z]\\w+)(\\n[A-Z][a-z]*\\s[A-Za-z]\\s+[A-Z][a-z]+)(\\n[A-Z][a-z]*\\w\\s+[A-Za-z]+)(\\n[A-Z][a-z]*\\s[A-Za-z]\\w+\\s[A-Za-z]+)(\\n[A-Za-z]+)(\\n[a-z]\\w+\\s[a-z]\\w\\s[a-z]\\w+)\", name)\n",
    "#               |\n",
    "#               |\n",
    "#               |\n",
    "# most definitely fail number 3"
   ]
  }
 ],
 "metadata": {
  "kernelspec": {
   "display_name": "Python 3.10.8 64-bit (microsoft store)",
   "language": "python",
   "name": "python3"
  },
  "language_info": {
   "codemirror_mode": {
    "name": "ipython",
    "version": 3
   },
   "file_extension": ".py",
   "mimetype": "text/x-python",
   "name": "python",
   "nbconvert_exporter": "python",
   "pygments_lexer": "ipython3",
   "version": "3.10.10"
  },
  "vscode": {
   "interpreter": {
    "hash": "aa82987a71ca0339a52998cd22613b0c002bda8349fa32a0cb67ceec3936a2bf"
   }
  }
 },
 "nbformat": 4,
 "nbformat_minor": 2
}
